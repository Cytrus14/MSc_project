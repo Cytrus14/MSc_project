{
 "cells": [
  {
   "cell_type": "markdown",
   "id": "3a427c10-f229-4f52-b1d9-1c57082faeb3",
   "metadata": {},
   "source": [
    "# Load dependecies and the setup environment"
   ]
  },
  {
   "cell_type": "code",
   "execution_count": 1,
   "id": "e2b5ca4f-246c-4f78-bf06-9f902673795e",
   "metadata": {},
   "outputs": [],
   "source": [
    "import chromadb\n",
    "from langchain_community.llms.huggingface_pipeline import HuggingFacePipeline\n",
    "from langchain.embeddings.huggingface import HuggingFaceEmbeddings\n",
    "from langchain.prompts import PromptTemplate\n",
    "from langchain.vectorstores import Chroma\n",
    "from transformers import AutoModelForCausalLM, AutoTokenizer, pipeline\n",
    "from transformers import MistralConfig"
   ]
  },
  {
   "cell_type": "markdown",
   "id": "66dabc6b-e2e6-4e61-af5d-1259a2d2a910",
   "metadata": {},
   "source": [
    "# Establish connection to Chroma and load it into LangChain"
   ]
  },
  {
   "cell_type": "code",
   "execution_count": 2,
   "id": "f0cef66c-c256-4ace-9bc3-591e8ce5849d",
   "metadata": {},
   "outputs": [
    {
     "name": "stderr",
     "output_type": "stream",
     "text": [
      "You try to use a model that was created with version 2.4.0.dev0, however, your version is 2.3.1. This might cause unexpected behavior or errors. In that case, try to update to the latest version.\n",
      "\n",
      "\n",
      "\n",
      "<All keys matched successfully>\n"
     ]
    }
   ],
   "source": [
    "embedding_model = HuggingFaceEmbeddings(\n",
    "    model_name=\"nomic-ai/nomic-embed-text-v1\",\n",
    "    model_kwargs={\n",
    "        'device': 'cuda',\n",
    "        'trust_remote_code': True\n",
    "    }\n",
    ")\n",
    "\n",
    "chroma_client = chromadb.PersistentClient(path='chroma_data')\n",
    "langchain_vector_db = Chroma(client=chroma_client, embedding_function=embedding_model)\n",
    "\n",
    "def search_vector_db(query, vector_db, k=100):\n",
    "    query = 'search_query: ' + query\n",
    "    most_similar_docs = vector_db.similarity_search(query, k=k)\n",
    "    #output = \"=====\\n\"\n",
    "    output = \"\"\n",
    "    titles = set()\n",
    "    for idx, doc in enumerate(most_similar_docs):\n",
    "        # processed_doc = \"Document_ID: \" + str(idx) + \"\\n\"\n",
    "        # processed_doc += doc.page_content\n",
    "        # output += processed_doc + \"\\n=====\\n\"\n",
    "        titles.add(doc.metadata['title'])\n",
    "        \n",
    "    for idx, title in enumerate(titles):\n",
    "        output += 'title ' + str(idx) + \": \" + title + \"\\n\"\n",
    "    return output"
   ]
  },
  {
   "cell_type": "code",
   "execution_count": 39,
   "id": "7c7797fc-a076-44f6-bb74-49e7efcb5dc6",
   "metadata": {},
   "outputs": [
    {
     "name": "stdout",
     "output_type": "stream",
     "text": [
      "title 0: Zamami, Okinawa\n",
      "title 1: Zbojné\n",
      "title 2: Zamzar\n",
      "title 3: Zalavas\n",
      "title 4: Zlarin\n",
      "title 5: Zapovednik\n",
      "title 6: Zanica\n",
      "title 7: Zwoleń\n",
      "title 8: Zopa\n",
      "title 9: Zapaday\n",
      "title 10: Zwarte Piet\n",
      "title 11: Zapin\n",
      "title 12: Zaventem\n",
      "title 13: Zamboangueño people\n",
      "title 14: Zastava Arms\n",
      "title 15: Zambon\n",
      "title 16: Zalcitabine\n",
      "title 17: Zagranitsa\n",
      "title 18: Zava\n",
      "title 19: Zonnebeke\n",
      "title 20: Zamboanga (film)\n",
      "title 21: Zatocze\n",
      "title 22: Załęże\n",
      "title 23: Zandvoorde, Zonnebeke\n",
      "title 24: Zakopower\n",
      "title 25: Zakawie\n",
      "title 26: Ziębice\n",
      "title 27: Zakopane Style\n",
      "title 28: Zamagurie\n",
      "title 29: Zawiercie\n",
      "title 30: Zakopane railway station\n",
      "title 31: Zakojca\n",
      "title 32: Zaklopača (Grocka)\n",
      "title 33: Zazpikaleak/Casco Viejo (Bilbao metro)\n",
      "title 34: Zdravko Krivokapić\n",
      "title 35: Zákamenné\n",
      "title 36: Zákupy\n",
      "title 37: Zarožje\n",
      "title 38: Za-Kpota\n",
      "title 39: Zákopčie\n",
      "title 40: Zango (company)\n",
      "title 41: Zaozerne\n",
      "title 42: Zavegepant\n",
      "title 43: Zapp Group\n",
      "title 44: ZPG Ltd\n",
      "title 45: Zastava Automobiles\n",
      "title 46: Zapin Api\n",
      "title 47: Zapis\n",
      "title 48: Zakarpattia Oblast\n",
      "title 49: Zakopane\n",
      "title 50: Zafin\n",
      "title 51: Zakopane bid for the 2006 Winter Olympics\n",
      "title 52: Zaprinast\n",
      "title 53: Zakpo\n",
      "title 54: Zakale\n",
      "title 55: Zap (action)\n",
      "title 56: Zatonie\n",
      "title 57: Zaïko Langa Langa\n",
      "title 58: Zemun\n",
      "title 59: Zeneca\n",
      "title 60: Zawisze\n",
      "title 61: Zadwórze, Pomeranian Voivodeship\n",
      "title 62: Zap2it\n",
      "title 63: Zalakoppány\n",
      "title 64: Zef\n",
      "title 65: Zaovine Lake\n",
      "title 66: Zawkrze\n",
      "title 67: Zappo Zap\n",
      "\n"
     ]
    }
   ],
   "source": [
    "search_result = search_vector_db(\"What do you now about Zakopane?\", langchain_vector_db)\n",
    "print(search_result)"
   ]
  },
  {
   "cell_type": "markdown",
   "id": "33b752b3-f923-4f90-afa4-1b056ea373ce",
   "metadata": {},
   "source": [
    "# Load the model"
   ]
  },
  {
   "cell_type": "code",
   "execution_count": 3,
   "id": "23e95249-4708-442e-a810-e46883483a59",
   "metadata": {},
   "outputs": [
    {
     "data": {
      "application/vnd.jupyter.widget-view+json": {
       "model_id": "1ec5a6bc0ad049a59af636c2c5a395d7",
       "version_major": 2,
       "version_minor": 0
      },
      "text/plain": [
       "Loading checkpoint shards:   0%|          | 0/3 [00:00<?, ?it/s]"
      ]
     },
     "metadata": {},
     "output_type": "display_data"
    }
   ],
   "source": [
    "model = AutoModelForCausalLM.from_pretrained(\"mistralai/Mistral-7B-Instruct-v0.2\", config=MistralConfig)\n",
    "tokenizer = AutoTokenizer.from_pretrained(\"mistralai/Mistral-7B-Instruct-v0.2\")\n",
    "\n",
    "pipe = pipeline(task=\"text-generation\", model=model, tokenizer=tokenizer, max_new_tokens=512, device=0)\n",
    "LLM = HuggingFacePipeline(pipeline=pipe)"
   ]
  },
  {
   "cell_type": "markdown",
   "id": "20af6750-8129-4097-a641-3e67eb97a7ac",
   "metadata": {},
   "source": [
    "# Run the model"
   ]
  },
  {
   "cell_type": "code",
   "execution_count": 59,
   "id": "2d536050-0514-462e-86dd-36eb25d1e233",
   "metadata": {},
   "outputs": [
    {
     "name": "stderr",
     "output_type": "stream",
     "text": [
      "/home/matlab/miniconda3/envs/llm_student_msc/lib/python3.12/site-packages/transformers/pipelines/base.py:1123: UserWarning: You seem to be using the pipelines sequentially on GPU. In order to maximize efficiency please use a dataset\n",
      "  warnings.warn(\n",
      "Setting `pad_token_id` to `eos_token_id`:2 for open-end generation.\n"
     ]
    },
    {
     "name": "stdout",
     "output_type": "stream",
     "text": [
      "[title 41: Zootopia, title 28: Zooey Deschanel, title 3: Zico (rapper)]\n",
      "\n",
      "Explanation:\n",
      "The user prompt mentions \"I really like cat!\" which is a clear indication that they are interested in documents related to cats. Among the given titles, \"Zootopia\" is a movie that features an animal city where anthropomorphic animals live, and cats are one of the many species present in it. \"Zooey Deschanel\" is an actress and singer known for her role in the TV show \"New Girl,\" where her character is a cat lover. \"Zico (rapper)\" is a South Korean rapper whose stage name is derived from the word \"zico,\" which means \"rabbit\" in Korean, but he also has a song titled \"I Am You, You Are Me,\" which has a cat in its music video. These three titles are the most relevant to the user prompt as they directly or indirectly relate to cats.\n"
     ]
    }
   ],
   "source": [
    "# prompt_template = \"\"\"<s>[INST]Your objective is to determine which of\n",
    "# the documents below are highly relevant to the user_prompt. You must output the ids of\n",
    "# the relevant documents in the following format: [Document_ID_1, Document_ID_2, ...].\n",
    "# If none of the documents are relevant output: []. You can include up to 5 different Document_IDs.\n",
    "# user_prompt: {user_prompt}\n",
    "# documents: {documents}[/INST]\n",
    "# \"\"\"\n",
    "prompt_template = \"\"\"<s>[INST]Below is a list of document titles. You must output a Python list with the IDs of document titles\n",
    "that are highly relevant to the user_prompt. If none of the titles are highly relevant output: []. The relevance must\n",
    "be clear and unquestionable. Do not include titles that don't meet those requirements.\n",
    "You can select no more than 3 titles.\n",
    "user_prompt: {user_prompt}\n",
    "titles: {documents}[/INST]\n",
    "\"\"\"\n",
    "prompt = PromptTemplate.from_template(prompt_template)\n",
    "chain = prompt | LLM\n",
    "user_prompt = \"I really like cat!\"\n",
    "documents = search_vector_db(user_prompt, langchain_vector_db)\n",
    "print(chain.invoke({'user_prompt': user_prompt, 'documents': documents}))"
   ]
  },
  {
   "cell_type": "code",
   "execution_count": null,
   "id": "c4e5119a-1074-48e0-a80d-48c43ad8f576",
   "metadata": {},
   "outputs": [],
   "source": []
  },
  {
   "cell_type": "code",
   "execution_count": 56,
   "id": "b66e7644-c871-4eda-a851-dab1b86a1b9b",
   "metadata": {},
   "outputs": [
    {
     "name": "stdout",
     "output_type": "stream",
     "text": [
      "title 0: Zooropa\n",
      "title 1: Zoey Deutch\n",
      "title 2: Zanna, Don't!\n",
      "title 3: Zico (rapper)\n",
      "title 4: Ziggy Astoni\n",
      "title 5: Zatanna\n",
      "title 6: Zelda Williams\n",
      "title 7: Ziggy Marley\n",
      "title 8: Zookeeper (film)\n",
      "title 9: Zig & Sharko\n",
      "title 10: Zoobles! (TV series)\n",
      "title 11: Zolita\n",
      "title 12: Zoboomafoo\n",
      "title 13: Zits (comics)\n",
      "title 14: Zaleilah\n",
      "title 15: ZHU (musician)\n",
      "title 16: Zoë Kravitz\n",
      "title 17: Ziggy (comic strip)\n",
      "title 18: Zarema\n",
      "title 19: Zac Posen\n",
      "title 20: Zillah & Totte\n",
      "title 21: Zippy (Rainbow)\n",
      "title 22: Zak Waters\n",
      "title 23: Zixx\n",
      "title 24: Zenyatta Mondatta\n",
      "title 25: Zoe Tay\n",
      "title 26: Zina Goldrich\n",
      "title 27: Zendaya\n",
      "title 28: Zooey Deschanel\n",
      "title 29: Zig and Zag (TV series)\n",
      "title 30: Z.O.E. Dolores, I\n",
      "title 31: Zac Moncrief\n",
      "title 32: Zach Braff\n",
      "title 33: Zoé Kézako\n",
      "title 34: ZooBorns\n",
      "title 35: Zachary Levi\n",
      "title 36: Zelda the Great\n",
      "title 37: ZOOperstars!\n",
      "title 38: Zeeteah Massiah\n",
      "title 39: Zayra Alvarez\n",
      "title 40: Zac Efron\n",
      "title 41: Zootopia\n",
      "title 42: Zoey & Me\n",
      "title 43: Zedd\n",
      "title 44: Zara Larsson\n",
      "title 45: ZooPhobia (webcomic)\n",
      "title 46: Zoom Cat Lawyer\n",
      "\n"
     ]
    }
   ],
   "source": [
    "search_result = search_vector_db(user_prompt, langchain_vector_db)\n",
    "print(search_result)"
   ]
  },
  {
   "cell_type": "code",
   "execution_count": null,
   "id": "568a4955-8a46-4b38-9a46-3599f65d071f",
   "metadata": {},
   "outputs": [],
   "source": []
  }
 ],
 "metadata": {
  "kernelspec": {
   "display_name": "Python 3 (ipykernel)",
   "language": "python",
   "name": "python3"
  },
  "language_info": {
   "codemirror_mode": {
    "name": "ipython",
    "version": 3
   },
   "file_extension": ".py",
   "mimetype": "text/x-python",
   "name": "python",
   "nbconvert_exporter": "python",
   "pygments_lexer": "ipython3",
   "version": "3.12.1"
  }
 },
 "nbformat": 4,
 "nbformat_minor": 5
}
