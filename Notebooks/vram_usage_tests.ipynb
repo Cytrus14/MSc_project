{
 "cells": [
  {
   "cell_type": "code",
   "execution_count": 1,
   "id": "52b5b9f0-a7c0-4009-bcdd-37c9306a401e",
   "metadata": {},
   "outputs": [],
   "source": [
    "import torch\n",
    "import transformers\n",
    "from fastcoref import FCoref\n",
    "from langchain.embeddings.huggingface import HuggingFaceEmbeddings\n",
    "from transformers import AutoModelForCausalLM\n",
    "from transformers import MistralConfig, BitsAndBytesConfig"
   ]
  },
  {
   "cell_type": "code",
   "execution_count": 2,
   "id": "3149b447-c6dd-493b-bffe-85b40bea6375",
   "metadata": {},
   "outputs": [],
   "source": [
    "quantization = '4bit' # Valid values: None, '8bit', '4bit'\n",
    "rag_adapter_path = './fine_tuning/fine_tuned_models'\n",
    "torch.cuda.memory._record_memory_history(max_entries=100000)"
   ]
  },
  {
   "cell_type": "markdown",
   "id": "3475ed83-931c-4709-b590-c77c0d72de9d",
   "metadata": {},
   "source": [
    "# Load Mistral into memory"
   ]
  },
  {
   "cell_type": "code",
   "execution_count": 3,
   "id": "ea072d17-8ec1-4c39-bb65-b8693def6a34",
   "metadata": {},
   "outputs": [
    {
     "name": "stderr",
     "output_type": "stream",
     "text": [
      "/home/matlab/miniconda3/envs/llm_student_msc/lib/python3.12/site-packages/huggingface_hub/file_download.py:1132: FutureWarning: `resume_download` is deprecated and will be removed in version 1.0.0. Downloads always resume when possible. If you want to force a new download, use `force_download=True`.\n",
      "  warnings.warn(\n"
     ]
    },
    {
     "data": {
      "application/vnd.jupyter.widget-view+json": {
       "model_id": "d744b14d0b5741a29993e5d642165400",
       "version_major": 2,
       "version_minor": 0
      },
      "text/plain": [
       "Loading checkpoint shards:   0%|          | 0/3 [00:00<?, ?it/s]"
      ]
     },
     "metadata": {},
     "output_type": "display_data"
    },
    {
     "name": "stdout",
     "output_type": "stream",
     "text": [
      "Model loaded with 4-bit quantization\n"
     ]
    }
   ],
   "source": [
    "base_model = \"mistralai/Mistral-7B-Instruct-v0.2\"\n",
    "# Choose quantization type\n",
    "if quantization == '8bit':\n",
    "    bnb_config = BitsAndBytesConfig(\n",
    "        load_in_8bit=True,\n",
    "    )\n",
    "    model = AutoModelForCausalLM.from_pretrained(base_model, config=MistralConfig, quantization_config=bnb_config, device_map='cuda')\n",
    "    print('Model loaded with 8-bit quantization')\n",
    "elif quantization == '4bit':\n",
    "    bnb_config = BitsAndBytesConfig(\n",
    "        load_in_4bit=True,\n",
    "        bnb_4bit_compute_dtype=torch.float16,\n",
    "        bnb_4bit_quant_type='nf4',\n",
    "        bnb_4bit_use_double_quant=False,\n",
    "    )\n",
    "    model = AutoModelForCausalLM.from_pretrained(base_model, config=MistralConfig, quantization_config=bnb_config, device_map='cuda')\n",
    "    print('Model loaded with 4-bit quantization')\n",
    "else:\n",
    "    model = AutoModelForCausalLM.from_pretrained(base_model, config=MistralConfig, device_map='cuda')\n",
    "    print('Model loaded with no quantization')"
   ]
  },
  {
   "cell_type": "markdown",
   "id": "183eec6f-2de3-4f72-962e-b162e5401833",
   "metadata": {},
   "source": [
    "### Load adapters on top of Mistral"
   ]
  },
  {
   "cell_type": "code",
   "execution_count": 4,
   "id": "2e099ede-3ceb-4145-bfdc-04ef8ba42774",
   "metadata": {},
   "outputs": [],
   "source": [
    "model.load_adapter(rag_adapter_path, adapter_name='rag_adapter')\n",
    "model.set_adapter('rag_adapter')"
   ]
  },
  {
   "cell_type": "markdown",
   "id": "0b7e7d0b-da29-4a68-82fb-4759e1f31afc",
   "metadata": {},
   "source": [
    "# Load FCoref components"
   ]
  },
  {
   "cell_type": "code",
   "execution_count": 5,
   "id": "3de12282-4c1d-4230-abab-acc64611bcfe",
   "metadata": {},
   "outputs": [
    {
     "name": "stderr",
     "output_type": "stream",
     "text": [
      "05/19/2024 18:28:53 - INFO - \t missing_keys: []\n",
      "05/19/2024 18:28:53 - INFO - \t unexpected_keys: []\n",
      "05/19/2024 18:28:53 - INFO - \t mismatched_keys: []\n",
      "05/19/2024 18:28:53 - INFO - \t error_msgs: []\n",
      "05/19/2024 18:28:53 - INFO - \t Model Parameters: 90.5M, Transformer: 82.1M, Coref head: 8.4M\n"
     ]
    }
   ],
   "source": [
    "coref_model = FCoref()"
   ]
  },
  {
   "cell_type": "markdown",
   "id": "88502f8e-fdae-4156-b2ed-ef370c62fff3",
   "metadata": {},
   "source": [
    "# Load Nomic embedder"
   ]
  },
  {
   "cell_type": "code",
   "execution_count": 6,
   "id": "a7489b70-7e36-4361-a889-e70c3584cb31",
   "metadata": {},
   "outputs": [
    {
     "name": "stderr",
     "output_type": "stream",
     "text": [
      "05/19/2024 18:28:53 - INFO - \t Load pretrained SentenceTransformer: nomic-ai/nomic-embed-text-v1\n",
      "/home/matlab/miniconda3/envs/llm_student_msc/lib/python3.12/site-packages/huggingface_hub/file_download.py:1132: FutureWarning: `resume_download` is deprecated and will be removed in version 1.0.0. Downloads always resume when possible. If you want to force a new download, use `force_download=True`.\n",
      "  warnings.warn(\n",
      "05/19/2024 18:28:57 - WARNING - \t <All keys matched successfully>\n"
     ]
    }
   ],
   "source": [
    "embedding_model = HuggingFaceEmbeddings(\n",
    "    model_name=\"nomic-ai/nomic-embed-text-v1\",\n",
    "    model_kwargs={\n",
    "        'device': 'cuda',\n",
    "        'trust_remote_code': True\n",
    "        }\n",
    "    )"
   ]
  },
  {
   "cell_type": "code",
   "execution_count": 7,
   "id": "547afc1e-493f-4fe2-9ba9-1eda1c8ee160",
   "metadata": {},
   "outputs": [],
   "source": [
    "torch.cuda.memory._dump_snapshot('vram_usage_4bit_everything.pickle')\n",
    "torch.cuda.memory._record_memory_history(enabled=None)"
   ]
  },
  {
   "cell_type": "code",
   "execution_count": null,
   "id": "42e4996d-3a17-42d7-862a-8ad0123e63c6",
   "metadata": {},
   "outputs": [],
   "source": []
  }
 ],
 "metadata": {
  "kernelspec": {
   "display_name": "Python 3 (ipykernel)",
   "language": "python",
   "name": "python3"
  },
  "language_info": {
   "codemirror_mode": {
    "name": "ipython",
    "version": 3
   },
   "file_extension": ".py",
   "mimetype": "text/x-python",
   "name": "python",
   "nbconvert_exporter": "python",
   "pygments_lexer": "ipython3",
   "version": "3.12.3"
  }
 },
 "nbformat": 4,
 "nbformat_minor": 5
}
